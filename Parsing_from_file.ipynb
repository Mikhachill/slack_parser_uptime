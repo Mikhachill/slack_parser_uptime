{
 "cells": [
  {
   "cell_type": "code",
   "execution_count": 17,
   "metadata": {},
   "outputs": [],
   "source": [
    "from bs4 import BeautifulSoup\n",
    "import pandas as pd\n",
    "import re\n",
    "import numpy as np\n",
    "import time\n"
   ]
  },
  {
   "cell_type": "code",
   "execution_count": 18,
   "metadata": {},
   "outputs": [
    {
     "name": "stdout",
     "output_type": "stream",
     "text": [
      "(33208, 2)\n"
     ]
    },
    {
     "data": {
      "text/html": [],
      "text/plain": []
     },
     "execution_count": 18,
     "metadata": {},
     "output_type": "execute_result"
    }
   ],
   "source": [
    "with open(\"slack.html\", \"r\") as f:\n",
    "    contents = f.read()\n",
    "    soup = BeautifulSoup(contents, 'lxml')\n",
    "    i = 0\n",
    "    col = ['alert', 'date']\n",
    "    data = pd.DataFrame(columns=col)\n",
    "\n",
    "    for tag in soup.select(\"body>div\"):\n",
    "        data.loc[i, 'alert'] = tag.text\n",
    "        if len(tag.text) < 28:\n",
    "            if ':' not in tag.text:\n",
    "                data.loc[i, 'date'] = tag.text\n",
    "        i += 1\n",
    "\n",
    "print(data.shape)\n",
    "data.head(10)\n",
    "        "
   ]
  },
  {
   "cell_type": "code",
   "execution_count": 19,
   "metadata": {},
   "outputs": [],
   "source": [
    "for i in range(len(data)):\n",
    "    if data.loc[i,'alert'] == '':\n",
    "        if data.loc[i,'date'] == '':\n",
    "            data.drop([i], inplace = True)"
   ]
  },
  {
   "cell_type": "code",
   "execution_count": 20,
   "metadata": {},
   "outputs": [
    {
     "name": "stdout",
     "output_type": "stream",
     "text": [
      "(32943, 2)\n"
     ]
    },
    {
     "data": {
      "text/html": [],
      "text/plain": []
     },
     "execution_count": 20,
     "metadata": {},
     "output_type": "execute_result"
    }
   ],
   "source": [
    "data.index = np.arange(len(data))\n",
    "print(data.shape)\n",
    "data"
   ]
  },
  {
   "cell_type": "code",
   "execution_count": 21,
   "metadata": {},
   "outputs": [],
   "source": [
    "for i in range(len(data)):\n",
    "    if data.loc[i, 'date'] is not np.nan:\n",
    "        try:\n",
    "            if data.loc[i + 1, 'date'] is np.nan:\n",
    "                data.loc[i + 1, 'date'] = data.loc[i, 'date']\n",
    "            elif data.loc[i + 1, 'date'] is not np.nan:\n",
    "                pass\n",
    "        except:\n",
    "            pass\n",
    "\n"
   ]
  },
  {
   "cell_type": "code",
   "execution_count": 22,
   "metadata": {},
   "outputs": [
    {
     "name": "stdout",
     "output_type": "stream",
     "text": [
      "(32943, 2)\n"
     ]
    },
    {
     "data": {
      "text/html": [],
      "text/plain": []
     },
     "execution_count": 22,
     "metadata": {},
     "output_type": "execute_result"
    }
   ],
   "source": [
    "print(data.shape)\n",
    "data"
   ]
  },
  {
   "cell_type": "code",
   "execution_count": 23,
   "metadata": {},
   "outputs": [],
   "source": [
    "for i in range(len(data)):\n",
    "    if data.loc[i,'alert'] == data.loc[i,'date']:\n",
    "        data.drop([i], inplace = True)"
   ]
  },
  {
   "cell_type": "code",
   "execution_count": 24,
   "metadata": {},
   "outputs": [
    {
     "name": "stdout",
     "output_type": "stream",
     "text": [
      "(32676, 2)\n"
     ]
    },
    {
     "data": {
      "text/html": [],
      "text/plain": []
     },
     "execution_count": 24,
     "metadata": {},
     "output_type": "execute_result"
    }
   ],
   "source": [
    "data.index = np.arange(len(data))\n",
    "print(data.shape)\n",
    "data.head(10)"
   ]
  },
  {
   "cell_type": "code",
   "execution_count": 25,
   "metadata": {},
   "outputs": [
    {
     "name": "stdout",
     "output_type": "stream",
     "text": [
      "32676\n",
      "32676\n",
      "32676\n"
     ]
    }
   ],
   "source": [
    "i = 0\n",
    "col = ['alert', 'time', 'date']\n",
    "df = pd.DataFrame(columns=col)\n",
    "for i in range(len(data)):\n",
    "    df.loc[i, 'alert'] = data.loc[i, 'alert']\n",
    "    i += 1\n",
    "print(i)\n",
    "\n",
    "i = 0\n",
    "for tag in soup.select(\".c-timestamp__label\"):\n",
    "    df.loc[i, 'time'] = tag.text\n",
    "    i += 1\n",
    "print(i)\n",
    "\n",
    "i = 0\n",
    "for i in range(len(data)):\n",
    "    df.loc[i, 'date'] = data.loc[i, 'date']\n",
    "    i += 1\n",
    "print(i)\n"
   ]
  },
  {
   "cell_type": "code",
   "execution_count": 26,
   "metadata": {},
   "outputs": [
    {
     "data": {
      "text/html": [],
      "text/plain": []
     },
     "execution_count": 26,
     "metadata": {},
     "output_type": "execute_result"
    }
   ],
   "source": [
    "df.head(20)"
   ]
  },
  {
   "cell_type": "code",
   "execution_count": 27,
   "metadata": {},
   "outputs": [
    {
     "name": "stdout",
     "output_type": "stream",
     "text": [
      "(24655, 3)\n"
     ]
    },
    {
     "data": {
      "text/html": [],
      "text/plain": []
     },
     "execution_count": 27,
     "metadata": {},
     "output_type": "execute_result"
    }
   ],
   "source": [
    "df = df.drop_duplicates()\n",
    "df.index = np.arange(len(df))\n",
    "\n",
    "print(df.shape)\n",
    "df.head(20)"
   ]
  },
  {
   "cell_type": "code",
   "execution_count": 28,
   "metadata": {},
   "outputs": [],
   "source": [
    "df.to_csv('slack_half_year2020.csv')"
   ]
  },
  {
   "cell_type": "code",
   "execution_count": 75,
   "metadata": {},
   "outputs": [
    {
     "data": {
      "text/html": [],
      "text/plain": []
     },
     "execution_count": 75,
     "metadata": {},
     "output_type": "execute_result"
    }
   ],
   "source": [
    "df"
   ]
  },
  {
   "cell_type": "markdown",
   "metadata": {},
   "source": [
    "<h1>ДАЛЬШЕ ИДУТ ЭКСПЕРИМЕНТЫ ВЕСЬ ОСНОВНОЙ КОД ВЫШЕ</h1>"
   ]
  },
  {
   "cell_type": "code",
   "execution_count": 78,
   "metadata": {},
   "outputs": [
    {
     "data": {
      "text/html": [],
      "text/plain": []
     },
     "execution_count": 78,
     "metadata": {},
     "output_type": "execute_result"
    }
   ],
   "source": [
    "\n",
    "#inst=df[df['alert'].apply(lambda alert: 'INSTANCE' in alert)]\n",
    "\n",
    "df.insert(loc = 1, column = 'ALERT RESULT', value = 0)\n",
    "df"
   ]
  },
  {
   "cell_type": "code",
   "execution_count": 89,
   "metadata": {},
   "outputs": [],
   "source": [
    "df.insert(loc = 2,column = 'TIME_UP', value = 0)\n",
    "\n",
    "for i in range(len(df)):\n",
    "    if 'RESOLVED' in df.loc[i,'alert']:\n",
    "        df.loc[i,'ALERT RESULT'] = 'RESOLVED'"
   ]
  },
  {
   "cell_type": "code",
   "execution_count": 90,
   "metadata": {},
   "outputs": [],
   "source": [
    "for i in range(len(df)):\n",
    "    if 'FIRI' in df.loc[i,'alert']:\n",
    "        df.loc[i,'ALERT RESULT'] = 'INSTANCE DOWN'"
   ]
  },
  {
   "cell_type": "code",
   "execution_count": 103,
   "metadata": {},
   "outputs": [
    {
     "data": {
      "text/html": [],
      "text/plain": []
     },
     "execution_count": 103,
     "metadata": {},
     "output_type": "execute_result"
    }
   ],
   "source": [
    "df    "
   ]
  },
  {
   "cell_type": "code",
   "execution_count": 102,
   "metadata": {},
   "outputs": [
    {
     "name": "stdout",
     "output_type": "stream",
     "text": []
    }
   ],
   "source": [
    "j=0\n",
    "for i in range(len(df)):\n",
    "    if df.loc[i,'ALERT RESULT'] == 'INSTANCE DOWN':\n",
    "        if df.loc[i + 1,'ALERT RESULT'] == 'RESOLVED':\n",
    "            if df.loc[i,'alert'][40:60] in df.loc[i + 1,'alert']:\n",
    "                j += 1\n",
    "                print('time_down:', df.loc[i + 1,'time'],' - ',df.loc[i,'time'])  \n",
    "                print(j)\n"
   ]
  },
  {
   "cell_type": "code",
   "execution_count": null,
   "metadata": {},
   "outputs": [],
   "source": []
  }
 ],
 "metadata": {
  "kernelspec": {
   "display_name": "Python 3",
   "language": "python",
   "name": "python3"
  },
  "language_info": {
   "codemirror_mode": {
    "name": "ipython",
    "version": 3
   },
   "file_extension": ".py",
   "mimetype": "text/x-python",
   "name": "python",
   "nbconvert_exporter": "python",
   "pygments_lexer": "ipython3",
   "version": "3.8.5"
  },
  "pycharm": {
   "stem_cell": {
    "cell_type": "raw",
    "source": [],
    "metadata": {
     "collapsed": false
    }
   }
  }
 },
 "nbformat": 4,
 "nbformat_minor": 4
}