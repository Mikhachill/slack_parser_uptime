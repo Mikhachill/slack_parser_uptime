{
 "cells": [
  {
   "cell_type": "code",
   "execution_count": 8,
   "metadata": {},
   "outputs": [
    {
     "data": {
      "text/plain": [
       "'utf-8'"
      ]
     },
     "execution_count": 8,
     "metadata": {},
     "output_type": "execute_result"
    }
   ],
   "source": [
    "#-*-coding: utf-8 -*-\n",
    "import requests\n",
    "from bs4 import BeautifulSoup\n",
    "#ID банка на сайте banki.ru\n",
    "url = 'https://app.slack.com/client/TBSAS16AX/CDHPA1Z0C'  # url страницы\n",
    "r = requests.get(url)\n",
    "with open('test.html', 'w') as output_file: output_file.write(r.text)\n",
    "r.encoding"
   ]
  },
  {
   "cell_type": "code",
   "execution_count": 9,
   "metadata": {},
   "outputs": [],
   "source": [
    "import lxml"
   ]
  },
  {
   "cell_type": "code",
   "execution_count": 3,
   "metadata": {},
   "outputs": [
    {
     "name": "stdout",
     "output_type": "stream",
     "text": [
      "0\n"
     ]
    }
   ],
   "source": [
    "import bs4\n",
    "for i in range(1):\n",
    "    print(i)"
   ]
  },
  {
   "cell_type": "code",
   "execution_count": null,
   "metadata": {},
   "outputs": [],
   "source": [
    "    def data_for_pars(self):\n",
    "        global id_massive\n",
    "        z=0\n",
    "        for i in itertools.count():\n",
    "            z+=1\n",
    "            try:\n",
    "                data = self.browser.find_element(By.XPATH,f\"//div[@class='c-virtual_list c-virtual_list--scrollbar c-message_list c-scrollbar c-scrollbar--fade']/div/div/div[@data-qa='slack_kit_list']/div[{1+z}]\")\n",
    "                #print(data.get_attribute('innerHTML'))\n",
    "                id_=data.get_attribute('id')\n",
    "                with open('id.txt', 'a') as u: u.write(id_+' ')            \n",
    "                try:\n",
    "                    id_massive.append(float(id_))\n",
    "                    if id_massive[-1] > id_massive[-2]:\n",
    "                        data_tag=data.get_attribute('innerHTML')\n",
    "                        with open('slack.html', 'a') as output_file: output_file.write(data_tag)\n",
    "                    else:\n",
    "                        data_tag=data.get_attribute('innerHTML')\n",
    "                        with open('slack.html', 'a') as output_file: output_file.write(data_tag)\n",
    "                        #id_massive.pop()\n",
    "                        \n",
    "                except(ValueError):\n",
    "                    data_tag=data.get_attribute('innerHTML')\n",
    "                    if data_tag=='Loading history...':\n",
    "                        scroll = self.browser.find_element(*SlackPageLocators.MAIN_SCROLL_BAR)\n",
    "                        actions = ActionChains(self.browser)\n",
    "                        actions.move_to_element(scroll)\n",
    "                        actions.drag_and_drop_by_offset(scroll,0,25)\n",
    "                        actions.perform() \n",
    "                        try:\n",
    "                            data_1 = self.browser.find_element(By.XPATH,f\"//div[@class='c-virtual_list c-virtual_list--scrollbar c-message_list c-scrollbar c-scrollbar--fade']/div/div/div[@data-qa='slack_kit_list']/div[{1+z-3}]\")\n",
    "                            z=z-1\n",
    "                        except(NoSuchElementException):\n",
    "                            z=0\n",
    "                    else:    \n",
    "                        with open('slack.html', 'a') as output_file: output_file.write( '<h1>'+data_tag+'</h1>')\n",
    "                    \n",
    "    \n",
    "                        \n",
    "            except(NoSuchElementException):\n",
    "                try: \n",
    "                    scroll = self.browser.find_element(*SlackPageLocators.MAIN_SCROLL_BAR)\n",
    "                    actions = ActionChains(self.browser)\n",
    "                    actions.move_to_element(scroll)\n",
    "                    actions.drag_and_drop_by_offset(scroll,0,25)\n",
    "                    actions.perform() \n",
    "                    \n",
    "                    \n",
    "                    data_first = self.browser.find_element(By.XPATH,f\"//div[@class='c-virtual_list c-virtual_list--scrollbar c-message_list c-scrollbar c-scrollbar--fade']/div/div/div[@data-qa='slack_kit_list']/div[{1+z}]\")\n",
    "                    z=z-1\n",
    "                  \n",
    "                \n",
    "                except(NoSuchElementException):\n",
    "                    try:\n",
    "                        data_1 = self.browser.find_element(By.XPATH,f\"//div[@class='c-virtual_list c-virtual_list--scrollbar c-message_list c-scrollbar c-scrollbar--fade']/div/div/div[@data-qa='slack_kit_list']/div[{1+z-3}]\")\n",
    "                        scroll = self.browser.find_element(*SlackPageLocators.MAIN_SCROLL_BAR)\n",
    "                        actions = ActionChains(self.browser)\n",
    "                        actions.move_to_element(scroll)\n",
    "                        actions.drag_and_drop_by_offset(scroll,0,25)\n",
    "                        actions.perform() \n",
    "                        z=z-1\n",
    "                        \n",
    "                    except(NoSuchElementException):\n",
    "                        z=0\n"
   ]
  }
 ],
 "metadata": {
  "kernelspec": {
   "display_name": "Python 3",
   "language": "python",
   "name": "python3"
  },
  "language_info": {
   "codemirror_mode": {
    "name": "ipython",
    "version": 3
   },
   "file_extension": ".py",
   "mimetype": "text/x-python",
   "name": "python",
   "nbconvert_exporter": "python",
   "pygments_lexer": "ipython3",
   "version": "3.8.3"
  }
 },
 "nbformat": 4,
 "nbformat_minor": 4
}
